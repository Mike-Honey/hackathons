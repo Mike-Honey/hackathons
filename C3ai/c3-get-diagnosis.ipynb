{
 "cells": [
  {
   "cell_type": "code",
   "execution_count": null,
   "metadata": {},
   "outputs": [],
   "source": []
  },
  {
   "cell_type": "markdown",
   "metadata": {},
   "source": [
    "# C3 - diagnostics Extract\n",
    "#### based on - C3.ai COVID-19 Data Lake Quickstart in Python\n",
    "#### Location Exposure doco: https://c3.ai/covid-19-api-documentation/#tag/Diagnosis/paths/~1api~11~1diagnosis~1fetch/post"
   ]
  },
  {
   "cell_type": "markdown",
   "metadata": {},
   "source": [
    "Loading Dependencies Below:"
   ]
  },
  {
   "cell_type": "code",
   "execution_count": 45,
   "metadata": {},
   "outputs": [],
   "source": [
    "import requests\n",
    "import pandas as pd\n",
    "from matplotlib import pyplot as plt\n",
    "import matplotlib\n",
    "from scipy.stats import gamma\n",
    "import numpy as np"
   ]
  },
  {
   "cell_type": "markdown",
   "metadata": {},
   "source": [
    "Ensuring that the most recent version of pandas (>= 1.0.0)"
   ]
  },
  {
   "cell_type": "code",
   "execution_count": 46,
   "metadata": {},
   "outputs": [
    {
     "output_type": "stream",
     "name": "stdout",
     "text": [
      "pandas version 1.1.3\n"
     ]
    }
   ],
   "source": [
    "print(\"pandas version\", pd.__version__)\n",
    "assert pd.__version__[0] >= \"1\", \"To use this notebook, upgrade to the newest version of pandas. See https://pandas.pydata.org/pandas-docs/stable/getting_started/install.html for details.\""
   ]
  },
  {
   "cell_type": "markdown",
   "metadata": {},
   "source": [
    "<a id=\"helpers\"></a>\n",
    "## Helper methods for accessing the API\n",
    "\n",
    "The helper methods in `c3aidatalake.py` convert a JSON response from the C3.ai APIs to a Pandas DataFrame. You may wish to view the code in `c3aidatalake.py` before running the code below. \n",
    "\n",
    "`c3aidatalake.py` is a API file provided by C3.ai"
   ]
  },
  {
   "cell_type": "code",
   "execution_count": 47,
   "metadata": {},
   "outputs": [],
   "source": [
    "import c3aidatalake "
   ]
  },
  {
   "cell_type": "code",
   "execution_count": 48,
   "metadata": {},
   "outputs": [],
   "source": [
    "def read_data(url, body, c3_source):\n",
    "    has_more = True\n",
    "    body['spec']['offset'] = 0\n",
    "    df = pd.DataFrame()\n",
    "    while has_more:\n",
    "        print(body['spec']['offset'])\n",
    "        response = requests.post(\n",
    "            url,\n",
    "            json = body,\n",
    "            headers = {'Accept' : 'application/json'}\n",
    "        )\n",
    "        new_df = pd.json_normalize(response.json()['objs'])\n",
    "        df = df.append(new_df)\n",
    "        has_more = response.json()['hasMore']\n",
    "        body['spec']['offset'] += new_df.shape[0]\n",
    "    # return df\n",
    "    diagnoses = df\n",
    "\n",
    "    diagnoses_long = diagnoses.explode(\"diagnostics\")\n",
    "    diagnoses_long = pd.concat([\n",
    "        diagnoses_long.reset_index(),\n",
    "        pd.json_normalize(\n",
    "            diagnoses_long.loc[diagnoses_long.source != 'UCSD', \"diagnostics\"]\n",
    "        )[[\"key\", \"value\"]]\n",
    "    ], axis = 1).drop(columns = \"diagnostics\")\n",
    "    diagnoses_long.to_csv(datadir + 'diagnoses_long_' + c3_source + '.csv')\n",
    "    diagnoses_long\n",
    "\n",
    "    diagnoses_wide = (\n",
    "        diagnoses_long\n",
    "        .loc[~diagnoses_long[['key', 'value']].isna().all(axis=1)]\n",
    "        .pivot(columns = \"key\", values = \"value\")\n",
    "    )\n",
    "    diagnoses_wide = pd.concat([diagnoses, diagnoses_wide], axis = 1).drop(columns = \"diagnostics\")\n",
    "    diagnoses_wide.to_csv(datadir + 'diagnoses_wide_' + c3_source + '.csv')\n",
    "    diagnoses_wide"
   ]
  },
  {
   "cell_type": "code",
   "execution_count": 49,
   "metadata": {},
   "outputs": [
    {
     "output_type": "stream",
     "name": "stdout",
     "text": [
      "0\n",
      "0\n"
     ]
    }
   ],
   "source": [
    "datadir = 'C:/Dev/Smart-Cookies/C3ai/'\n",
    "\n",
    "url = 'https://api.c3.ai/covid/api/1/diagnosis/fetch'\n",
    "\n",
    "body = {\n",
    "      \"spec\" : {\n",
    "          \"filter\" : \"contains(source, 'Braid')\", \n",
    "          \"include\" : \"this, diagnostics.source, diagnostics.key, diagnostics.value\"\n",
    "      }\n",
    "  }\n",
    "\n",
    "diagnosis = read_data(url, body, 'Braid')\n",
    "diagnosis\n",
    "\n",
    "body = {\n",
    "      \"spec\" : {\n",
    "          \"filter\" : \"contains(source, 'Montreal')\", \n",
    "          \"include\" : \"this, diagnostics.source, diagnostics.key, diagnostics.value\"\n",
    "      }\n",
    "  }\n",
    "\n",
    "diagnosis = read_data(url, body, 'Montreal')\n",
    "diagnosis"
   ]
  },
  {
   "cell_type": "code",
   "execution_count": 50,
   "metadata": {},
   "outputs": [],
   "source": [
    "# diagnoses = c3aidatalake.fetch(\n",
    "#   \"diagnosis\",\n",
    "#   {\n",
    "#       \"spec\" : {\n",
    "#           \"filter\" : \"contains(testResults, 'COVID-19')\", \n",
    "#           \"include\" : \"this, diagnostics.source, diagnostics.key, diagnostics.value\"\n",
    "#       }\n",
    "#   }\n",
    "# )\n",
    "\n",
    "# diagnoses"
   ]
  },
  {
   "cell_type": "code",
   "execution_count": null,
   "metadata": {},
   "outputs": [],
   "source": []
  }
 ],
 "metadata": {
  "kernelspec": {
   "name": "python3",
   "display_name": "Python 3.8.1 64-bit",
   "metadata": {
    "interpreter": {
     "hash": "4ec329b4f4f06c12ce627f1dba68d3617625830e9c6bd97c9551190e89c27418"
    }
   }
  },
  "language_info": {
   "codemirror_mode": {
    "name": "ipython",
    "version": 3
   },
   "file_extension": ".py",
   "mimetype": "text/x-python",
   "name": "python",
   "nbconvert_exporter": "python",
   "pygments_lexer": "ipython3",
   "version": "3.8.1-final"
  }
 },
 "nbformat": 4,
 "nbformat_minor": 4
}